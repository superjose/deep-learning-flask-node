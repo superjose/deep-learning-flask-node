{
 "cells": [
  {
   "cell_type": "code",
   "execution_count": 51,
   "metadata": {},
   "outputs": [],
   "source": [
    "import tensorflow as tf\n",
    "from tensorflow import keras\n",
    "\n",
    "import numpy\n",
    "import matplotlib.pyplot as plt\n",
    "\n",
    "imdb = keras.datasets.imdb\n",
    "\n",
    "(train_data, train_labels), (test_data, test_labels) = imdb.load_data(num_words=10000)"
   ]
  },
  {
   "cell_type": "code",
   "execution_count": 29,
   "metadata": {},
   "outputs": [
    {
     "name": "stdout",
     "output_type": "stream",
     "text": [
      "(25000,)\n",
      "218\n",
      "189\n"
     ]
    }
   ],
   "source": [
    "# Information about the data set\n",
    "print(train_data.shape)\n",
    "print(len(train_data[0]))\n",
    "print(len(train_data[1]))"
   ]
  },
  {
   "cell_type": "code",
   "execution_count": 21,
   "metadata": {},
   "outputs": [],
   "source": [
    "# Convert the integers back to words\n",
    "word_index = imdb.get_word_index()\n",
    "\n",
    "# The first indices are reserved\n",
    "word_index = {k:(v+3) for k,v in word_index.items()} \n",
    "word_index[\"<PAD>\"] = 0\n",
    "word_index[\"<START>\"] = 1\n",
    "word_index[\"<UNK>\"] = 2  # unknown\n",
    "word_index[\"<UNUSED>\"] = 3\n",
    "\n",
    "reverse_word_index = dict([(value, key) for (key, value) in word_index.items()])\n",
    "\n",
    "def decode_review(text):\n",
    "    return ' '.join([reverse_word_index.get(i, '?') for i in text])"
   ]
  },
  {
   "cell_type": "code",
   "execution_count": 23,
   "metadata": {},
   "outputs": [
    {
     "name": "stdout",
     "output_type": "stream",
     "text": [
      "(25000,)\n",
      "<START> this film was just brilliant casting location scenery story direction everyone's really suited the part they played and you could just imagine being there robert <UNK> is an amazing actor and now the same being director <UNK> father came from the same scottish island as myself so i loved the fact there was a real connection with this film the witty remarks throughout the film were great it was just brilliant so much that i bought the film as soon as it was released for <UNK> and would recommend it to everyone to watch and the fly fishing was amazing really cried at the end it was so sad and you know what they say if you cry at a film it must have been good and this definitely was also <UNK> to the two little boy's that played the <UNK> of norman and paul they were just brilliant children are often left out of the <UNK> list i think because the stars that play them all grown up are such a big profile for the whole film but these children are amazing and should be praised for what they have done don't you think the whole story was so lovely because it was true and was someone's life after all that was shared with us all\n"
     ]
    }
   ],
   "source": [
    "print(decode_review(train_data[0]))"
   ]
  },
  {
   "cell_type": "code",
   "execution_count": 41,
   "metadata": {},
   "outputs": [
    {
     "data": {
      "text/plain": [
       "(256, 256)"
      ]
     },
     "execution_count": 41,
     "metadata": {},
     "output_type": "execute_result"
    }
   ],
   "source": [
    "padded_data = keras.preprocessing.sequence.pad_sequences(train_data, \n",
    "                                                         value=word_index[\"<PAD>\"],\n",
    "                                                        padding='post',\n",
    "                                                        maxlen= 256)\n",
    "padded_test_data = keras.preprocessing.sequence.pad_sequences(test_data, \n",
    "                                                         value=word_index[\"<PAD>\"],\n",
    "                                                        padding='post',\n",
    "                                                        maxlen= 256)\n",
    "\n",
    "\n",
    "len(padded_data[0]), len(padded_data[0])"
   ]
  },
  {
   "cell_type": "code",
   "execution_count": 43,
   "metadata": {},
   "outputs": [
    {
     "name": "stdout",
     "output_type": "stream",
     "text": [
      "_________________________________________________________________\n",
      "Layer (type)                 Output Shape              Param #   \n",
      "=================================================================\n",
      "embedding_1 (Embedding)      (None, None, 16)          160000    \n",
      "_________________________________________________________________\n",
      "global_average_pooling1d (Gl (None, 16)                0         \n",
      "_________________________________________________________________\n",
      "dense (Dense)                (None, 16)                272       \n",
      "_________________________________________________________________\n",
      "dense_1 (Dense)              (None, 1)                 17        \n",
      "=================================================================\n",
      "Total params: 160,289\n",
      "Trainable params: 160,289\n",
      "Non-trainable params: 0\n",
      "_________________________________________________________________\n"
     ]
    }
   ],
   "source": [
    "# input shape is the vocabulary count used for the movie reviews (10,000 words)\n",
    "vocab_size = 10000\n",
    "model = keras.Sequential()\n",
    "model.add(keras.layers.Embedding(vocab_size, 16))\n",
    "model.add(keras.layers.GlobalAveragePooling1D())\n",
    "model.add(keras.layers.Dense(16, activation = tf.nn.relu))\n",
    "model.add(keras.layers.Dense(1, activation = tf.nn.sigmoid))\n",
    "\n",
    "model.summary()"
   ]
  },
  {
   "cell_type": "code",
   "execution_count": 45,
   "metadata": {},
   "outputs": [
    {
     "name": "stdout",
     "output_type": "stream",
     "text": [
      "Train on 15000 samples, validate on 10000 samples\n",
      "Epoch 1/20\n",
      "15000/15000 [==============================] - 2s 129us/step - loss: 0.6935 - acc: 0.5383 - val_loss: 0.6900 - val_acc: 0.5742\n",
      "Epoch 2/20\n",
      "15000/15000 [==============================] - 1s 81us/step - loss: 0.6726 - acc: 0.6510 - val_loss: 0.6384 - val_acc: 0.6386\n",
      "Epoch 3/20\n",
      "15000/15000 [==============================] - 1s 84us/step - loss: 0.5739 - acc: 0.7784 - val_loss: 0.5182 - val_acc: 0.8172\n",
      "Epoch 4/20\n",
      "15000/15000 [==============================] - 1s 94us/step - loss: 0.4566 - acc: 0.8545 - val_loss: 0.4300 - val_acc: 0.8583\n",
      "Epoch 5/20\n",
      "15000/15000 [==============================] - 2s 134us/step - loss: 0.3765 - acc: 0.8859 - val_loss: 0.3772 - val_acc: 0.8672\n",
      "Epoch 6/20\n",
      "15000/15000 [==============================] - 1s 92us/step - loss: 0.3216 - acc: 0.9001 - val_loss: 0.3476 - val_acc: 0.8675\n",
      "Epoch 7/20\n",
      "15000/15000 [==============================] - 1s 81us/step - loss: 0.2813 - acc: 0.9107 - val_loss: 0.3225 - val_acc: 0.8780\n",
      "Epoch 8/20\n",
      "15000/15000 [==============================] - 1s 83us/step - loss: 0.2501 - acc: 0.9213 - val_loss: 0.3107 - val_acc: 0.8787\n",
      "Epoch 9/20\n",
      "15000/15000 [==============================] - 1s 87us/step - loss: 0.2257 - acc: 0.9280 - val_loss: 0.2991 - val_acc: 0.8865\n",
      "Epoch 10/20\n",
      "15000/15000 [==============================] - 1s 81us/step - loss: 0.2040 - acc: 0.9355 - val_loss: 0.2930 - val_acc: 0.8849\n",
      "Epoch 11/20\n",
      "15000/15000 [==============================] - 1s 84us/step - loss: 0.1861 - acc: 0.9429 - val_loss: 0.2947 - val_acc: 0.8826\n",
      "Epoch 12/20\n",
      "15000/15000 [==============================] - 1s 81us/step - loss: 0.1698 - acc: 0.9487 - val_loss: 0.2902 - val_acc: 0.8867\n",
      "Epoch 13/20\n",
      "15000/15000 [==============================] - 1s 87us/step - loss: 0.1563 - acc: 0.9533 - val_loss: 0.2924 - val_acc: 0.8853\n",
      "Epoch 14/20\n",
      "15000/15000 [==============================] - 1s 85us/step - loss: 0.1438 - acc: 0.9592 - val_loss: 0.2989 - val_acc: 0.8841\n",
      "Epoch 15/20\n",
      "15000/15000 [==============================] - 1s 82us/step - loss: 0.1322 - acc: 0.9619 - val_loss: 0.3016 - val_acc: 0.8873\n",
      "Epoch 16/20\n",
      "15000/15000 [==============================] - 1s 83us/step - loss: 0.1222 - acc: 0.9657 - val_loss: 0.3062 - val_acc: 0.8816\n",
      "Epoch 17/20\n",
      "15000/15000 [==============================] - 1s 83us/step - loss: 0.1124 - acc: 0.9697 - val_loss: 0.3099 - val_acc: 0.8844\n",
      "Epoch 18/20\n",
      "15000/15000 [==============================] - 1s 81us/step - loss: 0.1039 - acc: 0.9727 - val_loss: 0.3189 - val_acc: 0.8838\n",
      "Epoch 19/20\n",
      "15000/15000 [==============================] - 1s 85us/step - loss: 0.0964 - acc: 0.9757 - val_loss: 0.3269 - val_acc: 0.8815\n",
      "Epoch 20/20\n",
      "15000/15000 [==============================] - 1s 86us/step - loss: 0.0887 - acc: 0.9787 - val_loss: 0.3351 - val_acc: 0.8803\n"
     ]
    }
   ],
   "source": [
    "# Use the optimizer:\n",
    "\n",
    "model.compile(optimizer = tf.train.AdamOptimizer(), \n",
    "                    loss = 'binary_crossentropy',\n",
    "                    metrics = ['accuracy'])\n",
    "\n",
    "\n",
    "x_val = padded_data[:10000]\n",
    "partial_x_train = padded_data[10000:]\n",
    "\n",
    "y_val = train_labels[:10000]\n",
    "partial_y_train = train_labels[10000:]\n",
    "\n",
    "\n",
    "history = model.fit(partial_x_train,\n",
    "                   partial_y_train,\n",
    "                   epochs=20,\n",
    "                   validation_data=(x_val, y_val),\n",
    "                   verbose = 1)"
   ]
  },
  {
   "cell_type": "code",
   "execution_count": 47,
   "metadata": {},
   "outputs": [
    {
     "name": "stdout",
     "output_type": "stream",
     "text": [
      "25000/25000 [==============================] - 0s 14us/step\n",
      "[0.35734536674976347, 0.8712]\n"
     ]
    }
   ],
   "source": [
    "results = model.evaluate(padded_test_data, test_labels)\n",
    "print(results)"
   ]
  },
  {
   "cell_type": "code",
   "execution_count": 48,
   "metadata": {},
   "outputs": [
    {
     "data": {
      "text/plain": [
       "dict_keys(['val_loss', 'val_acc', 'loss', 'acc'])"
      ]
     },
     "execution_count": 48,
     "metadata": {},
     "output_type": "execute_result"
    }
   ],
   "source": [
    "history_dict = history.history\n",
    "history_dict.keys()"
   ]
  },
  {
   "cell_type": "code",
   "execution_count": 52,
   "metadata": {},
   "outputs": [
    {
     "data": {
      "image/png": "[encoded data removed]",
      "text/plain": [
       "<Figure size 432x288 with 1 Axes>"
      ]
     },
     "metadata": {},
     "output_type": "display_data"
    }
   ],
   "source": [
    "acc = history.history['acc']\n",
    "val_acc = history.history['val_acc']\n",
    "loss = history.history['loss']\n",
    "val_loss = history.history['val_loss']\n",
    "\n",
    "epochs = range(1, len(acc) + 1)\n",
    "\n",
    "# \"bo\" is for \"blue dot\"\n",
    "plt.plot(epochs, loss, 'bo', label='Training loss')\n",
    "# b is for \"solid blue line\"\n",
    "plt.plot(epochs, val_loss, 'b', label='Validation loss')\n",
    "plt.title('Training and validation loss')\n",
    "plt.xlabel('Epochs')\n",
    "plt.ylabel('Loss')\n",
    "plt.legend()\n",
    "\n",
    "plt.show()"
   ]
  },
  {
   "cell_type": "code",
   "execution_count": 53,
   "metadata": {},
   "outputs": [
    {
     "data": {
      "image/png": "[encoded data removed]",
      "text/plain": [
       "<Figure size 432x288 with 1 Axes>"
      ]
     },
     "metadata": {},
     "output_type": "display_data"
    }
   ],
   "source": [
    "acc_values = history_dict['acc']\n",
    "val_acc_values = history_dict['val_acc']\n",
    "\n",
    "plt.plot(epochs, acc, 'bo', label='Training acc')\n",
    "plt.plot(epochs, val_acc, 'b', label='Validation acc')\n",
    "plt.title('Training and validation accuracy')\n",
    "plt.xlabel('Epochs')\n",
    "plt.ylabel('Loss')\n",
    "plt.legend()\n",
    "\n",
    "plt.show()"
   ]
  },
  {
   "cell_type": "code",
   "execution_count": null,
   "metadata": {},
   "outputs": [],
   "source": []
  }
 ],
 "metadata": {
  "kernelspec": {
   "display_name": "Python 3",
   "language": "python",
   "name": "python3"
  },
  "language_info": {
   "codemirror_mode": {
    "name": "ipython",
    "version": 3
   },
   "file_extension": ".py",
   "mimetype": "text/x-python",
   "name": "python",
   "nbconvert_exporter": "python",
   "pygments_lexer": "ipython3",
   "version": "3.6.6"
  }
 },
 "nbformat": 4,
 "nbformat_minor": 2
}
